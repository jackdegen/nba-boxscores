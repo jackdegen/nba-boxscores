{
 "cells": [
  {
   "cell_type": "code",
   "execution_count": null,
   "id": "f75b2f93-4977-4835-afbd-ecd88a3bc632",
   "metadata": {},
   "outputs": [],
   "source": [
    "from scraper import Scraper as BoxscoreScraper"
   ]
  },
  {
   "cell_type": "code",
   "execution_count": null,
   "id": "46b7105f-162b-438a-8939-c8a8adeb9445",
   "metadata": {},
   "outputs": [],
   "source": [
    "scraper = BoxscoreScraper()"
   ]
  },
  {
   "cell_type": "code",
   "execution_count": null,
   "id": "5735878e-5624-4238-bd8f-d9f78b19b561",
   "metadata": {},
   "outputs": [],
   "source": [
    "scraper.get_season_boxscores()"
   ]
  }
 ],
 "metadata": {
  "kernelspec": {
   "display_name": "Python 3 (ipykernel)",
   "language": "python",
   "name": "python3"
  },
  "language_info": {
   "codemirror_mode": {
    "name": "ipython",
    "version": 3
   },
   "file_extension": ".py",
   "mimetype": "text/x-python",
   "name": "python",
   "nbconvert_exporter": "python",
   "pygments_lexer": "ipython3",
   "version": "3.11.3"
  }
 },
 "nbformat": 4,
 "nbformat_minor": 5
}
